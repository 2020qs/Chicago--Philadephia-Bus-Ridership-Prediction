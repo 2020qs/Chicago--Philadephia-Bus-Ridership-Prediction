{
 "cells": [
  {
   "cell_type": "code",
   "execution_count": null,
   "id": "84bbb386",
   "metadata": {},
   "outputs": [],
   "source": [
    "import folium as fm\n",
    "import pandas as pd\n",
    "import param\n",
    "import panel as pn\n",
    "import random\n",
    "pn.extension(sizing_mode=\"stretch_width\")\n",
    "import geopandas as gpd"
   ]
  },
  {
   "cell_type": "markdown",
   "id": "72e2840a",
   "metadata": {},
   "source": [
    "# example"
   ]
  },
  {
   "cell_type": "markdown",
   "id": "d47345f8",
   "metadata": {},
   "source": [
    "# our project"
   ]
  },
  {
   "cell_type": "code",
   "execution_count": null,
   "id": "76f354e9",
   "metadata": {},
   "outputs": [],
   "source": [
    "def get_map(lat=41.89051776994878, long=-87.62846577303873, zoom_start=11):\n",
    "    return fm.Map(location=[lat,long], zoom_start=zoom_start)\n",
    "\n",
    "map = get_map()\n"
   ]
  },
  {
   "cell_type": "code",
   "execution_count": null,
   "id": "76c4f616",
   "metadata": {},
   "outputs": [],
   "source": [
    "# load the data\n",
    "chicago_data = gpd.read_file('data/chicago_data.geojson').set_crs(\"epsg:3857\", allow_override=True)\n",
    "bus_ridership = gpd.read_file('data/bus_ridership.geojson')\n",
    "#bus_ridership.to_crs(\"epsg:3857\", inplace = True)"
   ]
  },
  {
   "cell_type": "code",
   "execution_count": null,
   "id": "fff9ba19",
   "metadata": {},
   "outputs": [],
   "source": [
    "bus_ridership"
   ]
  },
  {
   "cell_type": "code",
   "execution_count": null,
   "id": "138ae19e",
   "metadata": {},
   "outputs": [],
   "source": [
    "#### then used Folium - Folium is better (this chunk of code is not on Panel)\n",
    "import folium\n",
    "from folium.plugins import MarkerCluster\n",
    "## choropleth for boardings (will be predicted demand for our project)\n",
    "def choose_x(x='boardings'):    \n",
    "    # Minimum\n",
    "    min_val = chicago_data[x].min()\n",
    "\n",
    "    # Maximum\n",
    "    max_val = chicago_data[x].max()\n",
    "\n",
    "    # Calculate a normalized column\n",
    "    normalized = (chicago_data[x] - min_val) / (max_val - min_val)\n",
    "\n",
    "    # Add to the dataframe\n",
    "    chicago_data[\"normalized\"] = normalized\n",
    "    \n",
    "choose_x()\n",
    "def add_choropleth(map, chicago_data, x='boardings'):\n",
    "    import matplotlib.colors as mcolors\n",
    "    from matplotlib import pyplot as plt\n",
    "    # Use a red-purple colorbrewer color scheme\n",
    "    cmap = plt.get_cmap('RdPu')\n",
    "\n",
    "\n",
    "    def get_style(feature):\n",
    "        # Get the data value from the feature\n",
    "        value = feature['properties']['normalized']\n",
    "\n",
    "        # Evaluate the color map\n",
    "        # NOTE: value must between 0 and 1\n",
    "        rgb_color = cmap(value) # this is an RGB tuple\n",
    "\n",
    "        # Convert to hex string\n",
    "        color = mcolors.rgb2hex(rgb_color)\n",
    "\n",
    "        # Return the style dictionary\n",
    "        return {'weight': 0.5, 'color': color, 'fillColor': color, \"fillOpacity\": 0.75}\n",
    "\n",
    "    def get_highlighted_style(feature):\n",
    "        return {\"weight\": 3, \"color\": \"black\"}\n",
    "\n",
    "\n",
    "    # Add the GeoJson to the map\n",
    "    folium.GeoJson(\n",
    "        chicago_data.to_crs(epsg=4326).to_json(), # IMPORTANT: make sure CRS is lat/lng (EPSG=4326)\n",
    "        #name='Philadelphia ZIP_codes',\n",
    "        style_function=get_style,\n",
    "        #highlight_function=get_highlighted_style,\n",
    "        tooltip=folium.GeoJsonTooltip([x])\n",
    "    ).add_to(map)\n",
    "    \n",
    "#def add_marker_cluster(map, bus_ridership):\n",
    "    TOR_COORDINATES = (pd.to_numeric(bus_ridership['latitude']).mean(), pd.to_numeric(bus_ridership['longitude']).mean())\n",
    "\n",
    "    # subset to match subset of locations\n",
    "    MAX_RECORDS = 2500\n",
    "\n",
    "    mc = MarkerCluster()\n",
    "\n",
    "    # iterate through dataset to create clusters\n",
    "    for row in bus_ridership[0:MAX_RECORDS].itertuples():\n",
    "        mc.add_child(folium.Marker(location=[row.latitude,  row.longitude],\n",
    "                     popup=row.boardings))\n",
    "\n",
    "    map.add_child(mc)\n",
    "    \n",
    "add_choropleth(map, chicago_data)\n",
    "#add_marker_cluster(map, bus_ridership)"
   ]
  },
  {
   "cell_type": "code",
   "execution_count": null,
   "id": "aa87b41b",
   "metadata": {
    "scrolled": false
   },
   "outputs": [],
   "source": [
    "columns = list(chicago_data.columns[2:-1])\n",
    "class PanelFoliumMap(param.Parameterized):\n",
    "    x = param.Selector(default='boardings', objects=columns)\n",
    "        \n",
    "    def __init__(self, **params):\n",
    "        super().__init__(**params)\n",
    "        self.map = get_map()\n",
    "        self.folium_pane = pn.pane.plot.Folium(sizing_mode=\"stretch_both\", min_height=800, margin=0)    \n",
    "        self.view = pn.Column(\n",
    "            self.param.x,\n",
    "            self.folium_pane,\n",
    "            sizing_mode=\"stretch_both\", height=800\n",
    "        )\n",
    "        self._update_map()\n",
    "        \n",
    "    @param.depends(\"x\", watch=True)\n",
    "    def _update_map(self):\n",
    "        self.map = get_map()\n",
    "        choose_x(self.x)\n",
    "        add_choropleth(self.map, chicago_data, self.x)\n",
    "        self.folium_pane.object = self.map\n",
    "        \n",
    "app = PanelFoliumMap(name=\"\").view"
   ]
  },
  {
   "cell_type": "code",
   "execution_count": null,
   "id": "8b32f769",
   "metadata": {},
   "outputs": [],
   "source": [
    "# The title\n",
    "title = pn.Pane(\"<h1>Bus Ridership in Chicago by Block</h1>\", width=1000)\n",
    "# Layout the dashboard\n",
    "panel = pn.Column(\n",
    "    pn.Row(title),\n",
    "    pn.Row(app),\n",
    ")\n",
    "panel.servable()"
   ]
  }
 ],
 "metadata": {
  "kernelspec": {
   "display_name": "Python 3 (ipykernel)",
   "language": "python",
   "name": "python3"
  },
  "language_info": {
   "codemirror_mode": {
    "name": "ipython",
    "version": 3
   },
   "file_extension": ".py",
   "mimetype": "text/x-python",
   "name": "python",
   "nbconvert_exporter": "python",
   "pygments_lexer": "ipython3",
   "version": "3.8.12"
  }
 },
 "nbformat": 4,
 "nbformat_minor": 5
}
