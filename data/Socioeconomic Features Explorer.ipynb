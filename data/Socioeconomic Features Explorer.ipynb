{
 "cells": [
  {
   "cell_type": "code",
   "execution_count": 4,
   "id": "80389fdb",
   "metadata": {},
   "outputs": [],
   "source": [
    "import pandas as pd\n",
    "import geopandas as gpd\n",
    "import hvplot.pandas\n",
    "import panel as pn\n",
    "import param\n",
    "import folium as fm\n",
    "\n",
    "from matplotlib import pyplot as plt\n",
    "import altair as alt\n",
    "import folium\n",
    "import matplotlib.colors as mcolors\n"
   ]
  },
  {
   "cell_type": "code",
   "execution_count": 5,
   "id": "591cd43a",
   "metadata": {},
   "outputs": [
    {
     "data": {},
     "metadata": {},
     "output_type": "display_data"
    },
    {
     "data": {},
     "metadata": {},
     "output_type": "display_data"
    },
    {
     "data": {
      "application/vnd.holoviews_exec.v0+json": "",
      "text/html": [
       "<div id='1539'>\n",
       "\n",
       "\n",
       "\n",
       "\n",
       "\n",
       "  <div class=\"bk-root\" id=\"91676f08-3a6d-4dd4-9865-cbc8eeb4f20b\" data-root-id=\"1539\"></div>\n",
       "</div>\n",
       "<script type=\"application/javascript\">(function(root) {\n",
       "  function embed_document(root) {\n",
       "    var docs_json = {\"b0767492-3ccc-4e41-9463-5f49d4b6ac3c\":{\"defs\":[{\"extends\":null,\"module\":null,\"name\":\"ReactiveHTML1\",\"overrides\":[],\"properties\":[]},{\"extends\":null,\"module\":null,\"name\":\"FlexBox1\",\"overrides\":[],\"properties\":[{\"default\":\"flex-start\",\"kind\":null,\"name\":\"align_content\"},{\"default\":\"flex-start\",\"kind\":null,\"name\":\"align_items\"},{\"default\":\"row\",\"kind\":null,\"name\":\"flex_direction\"},{\"default\":\"wrap\",\"kind\":null,\"name\":\"flex_wrap\"},{\"default\":\"flex-start\",\"kind\":null,\"name\":\"justify_content\"}]},{\"extends\":null,\"module\":null,\"name\":\"TemplateActions1\",\"overrides\":[],\"properties\":[{\"default\":0,\"kind\":null,\"name\":\"open_modal\"},{\"default\":0,\"kind\":null,\"name\":\"close_modal\"}]},{\"extends\":null,\"module\":null,\"name\":\"MaterialTemplateActions1\",\"overrides\":[],\"properties\":[{\"default\":0,\"kind\":null,\"name\":\"open_modal\"},{\"default\":0,\"kind\":null,\"name\":\"close_modal\"}]}],\"roots\":{\"references\":[{\"attributes\":{},\"id\":\"1554\",\"type\":\"LinearScale\"},{\"attributes\":{\"children\":[{\"id\":\"1540\"},{\"id\":\"1541\"}],\"margin\":[0,0,0,0],\"name\":\"Column02441\",\"width_policy\":\"max\"},\"id\":\"1539\",\"type\":\"Column\"},{\"attributes\":{\"data_source\":{\"id\":\"1577\"},\"glyph\":{\"id\":\"1580\"},\"hover_glyph\":null,\"muted_glyph\":{\"id\":\"1582\"},\"nonselection_glyph\":{\"id\":\"1581\"},\"selection_glyph\":{\"id\":\"1585\"},\"view\":{\"id\":\"1584\"}},\"id\":\"1583\",\"type\":\"GlyphRenderer\"},{\"attributes\":{},\"id\":\"1587\",\"type\":\"AllLabels\"},{\"attributes\":{\"bottom\":{\"value\":0},\"fill_alpha\":{\"value\":1.0},\"fill_color\":{\"value\":\"#9ecae1\"},\"hatch_alpha\":{\"value\":1.0},\"hatch_color\":{\"value\":\"black\"},\"hatch_scale\":{\"value\":12.0},\"hatch_weight\":{\"value\":1.0},\"left\":{\"field\":\"left\"},\"line_alpha\":{\"value\":1.0},\"line_cap\":{\"value\":\"butt\"},\"line_color\":{\"value\":\"black\"},\"line_dash\":{\"value\":[]},\"line_dash_offset\":{\"value\":0},\"line_join\":{\"value\":\"bevel\"},\"line_width\":{\"value\":1},\"right\":{\"field\":\"right\"},\"top\":{\"field\":\"top\"}},\"id\":\"1585\",\"type\":\"Quad\"},{\"attributes\":{},\"id\":\"1590\",\"type\":\"AllLabels\"},{\"attributes\":{\"below\":[{\"id\":\"1556\"}],\"center\":[{\"id\":\"1559\"},{\"id\":\"1563\"}],\"height\":null,\"left\":[{\"id\":\"1560\"}],\"margin\":[5,5,5,5],\"min_border_bottom\":10,\"min_border_left\":10,\"min_border_right\":10,\"min_border_top\":10,\"min_height\":500,\"renderers\":[{\"id\":\"1583\"}],\"sizing_mode\":\"stretch_both\",\"title\":{\"id\":\"1548\"},\"toolbar\":{\"id\":\"1570\"},\"width\":null,\"x_range\":{\"id\":\"1544\"},\"x_scale\":{\"id\":\"1552\"},\"y_range\":{\"id\":\"1545\"},\"y_scale\":{\"id\":\"1554\"}},\"id\":\"1547\",\"subtype\":\"Figure\",\"type\":\"Plot\"},{\"attributes\":{\"bottom\":{\"value\":0},\"fill_color\":{\"value\":\"#9ecae1\"},\"left\":{\"field\":\"left\"},\"right\":{\"field\":\"right\"},\"top\":{\"field\":\"top\"}},\"id\":\"1580\",\"type\":\"Quad\"},{\"attributes\":{\"bottom\":{\"value\":0},\"fill_alpha\":{\"value\":0.1},\"fill_color\":{\"value\":\"#9ecae1\"},\"left\":{\"field\":\"left\"},\"line_alpha\":{\"value\":0.1},\"right\":{\"field\":\"right\"},\"top\":{\"field\":\"top\"}},\"id\":\"1581\",\"type\":\"Quad\"},{\"attributes\":{\"bottom_units\":\"screen\",\"fill_alpha\":0.5,\"fill_color\":\"lightgrey\",\"left_units\":\"screen\",\"level\":\"overlay\",\"line_alpha\":1.0,\"line_color\":\"black\",\"line_dash\":[4,4],\"line_width\":2,\"right_units\":\"screen\",\"syncable\":false,\"top_units\":\"screen\"},\"id\":\"1569\",\"type\":\"BoxAnnotation\"},{\"attributes\":{\"bottom\":{\"value\":0},\"fill_alpha\":{\"value\":0.2},\"fill_color\":{\"value\":\"#9ecae1\"},\"left\":{\"field\":\"left\"},\"line_alpha\":{\"value\":0.2},\"right\":{\"field\":\"right\"},\"top\":{\"field\":\"top\"}},\"id\":\"1582\",\"type\":\"Quad\"},{\"attributes\":{\"axis\":{\"id\":\"1556\"},\"grid_line_color\":null,\"ticker\":null},\"id\":\"1559\",\"type\":\"Grid\"},{\"attributes\":{},\"id\":\"1552\",\"type\":\"LinearScale\"},{\"attributes\":{},\"id\":\"1599\",\"type\":\"UnionRenderers\"},{\"attributes\":{},\"id\":\"1557\",\"type\":\"BasicTicker\"},{\"attributes\":{\"text_color\":\"black\",\"text_font_size\":\"12pt\"},\"id\":\"1548\",\"type\":\"Title\"},{\"attributes\":{\"children\":[{\"id\":\"1542\"},{\"id\":\"1543\"}],\"margin\":[0,0,0,0],\"name\":\"Row02440\"},\"id\":\"1541\",\"type\":\"Row\"},{\"attributes\":{},\"id\":\"1565\",\"type\":\"PanTool\"},{\"attributes\":{\"children\":[{\"id\":\"1547\"}],\"margin\":[0,0,0,0],\"name\":\"Row02338\"},\"id\":\"1543\",\"type\":\"Row\"},{\"attributes\":{\"data\":{\"left\":{\"__ndarray__\":\"AAAAAAAAAAAzMzMzM8d/QDMzMzMzx49AZmZmZmbVl0AzMzMzM8efQAAAAACA3KNAZmZmZmbVp0DNzMzMTM6rQDMzMzMzx69AzczMzAzgsUAAAAAAgNyzQDMzMzPz2LVAZmZmZmbVt0CZmZmZ2dG5QM3MzMxMzrtAAAAAAMDKvUAzMzMzM8e/QDMzMzPT4cBAzczMzAzgwUBmZmZmRt7CQA==\",\"dtype\":\"float64\",\"order\":\"little\",\"shape\":[20]},\"right\":{\"__ndarray__\":\"MzMzMzPHf0AzMzMzM8ePQGZmZmZm1ZdAMzMzMzPHn0AAAAAAgNyjQGZmZmZm1adAzczMzEzOq0AzMzMzM8evQM3MzMwM4LFAAAAAAIDcs0AzMzMz89i1QGZmZmZm1bdAmZmZmdnRuUDNzMzMTM67QAAAAADAyr1AMzMzMzPHv0AzMzMz0+HAQM3MzMwM4MFAZmZmZkbewkAAAAAAgNzDQA==\",\"dtype\":\"float64\",\"order\":\"little\",\"shape\":[20]},\"top\":[139,794,820,369,134,40,11,9,5,3,1,0,1,0,0,0,0,0,0,1],\"total_pop\":{\"__ndarray__\":\"MzMzMzPHb0BmZmZmZtWHQAAAAACA3JNAzMzMzEzOm0DNzMzMDOChQDMzMzPz2KVAmpmZmdnRqUAAAAAAwMqtQDMzMzPT4bBAZmZmZkbeskCamZmZudq0QMzMzMws17ZAAAAAAKDTuEAzMzMzE9C6QGZmZmaGzLxAmpmZmfnIvkBmZmZmtmLAQAAAAADwYMFAmpmZmSlfwkAzMzMzY13DQA==\",\"dtype\":\"float64\",\"order\":\"little\",\"shape\":[20]},\"total_pop_count\":[139,794,820,369,134,40,11,9,5,3,1,0,1,0,0,0,0,0,0,1]},\"selected\":{\"id\":\"1578\"},\"selection_policy\":{\"id\":\"1599\"}},\"id\":\"1577\",\"type\":\"ColumnDataSource\"},{\"attributes\":{\"end\":902.0,\"reset_end\":902.0,\"reset_start\":0.0,\"tags\":[[[\"total_pop_count\",\"Count\",null]]]},\"id\":\"1545\",\"type\":\"Range1d\"},{\"attributes\":{},\"id\":\"1564\",\"type\":\"SaveTool\"},{\"attributes\":{\"client_comm_id\":\"b071c9f0dd90444385ec9a8c0b42c732\",\"comm_id\":\"75e93c4cab5a4c63aac23f8fc452473d\",\"plot_id\":\"1539\"},\"id\":\"1642\",\"type\":\"panel.models.comm_manager.CommManager\"},{\"attributes\":{\"margin\":[5,10,5,10],\"options\":[\"total_pop\",\"median_rent\",\"median_income\",\"median_age\",\"boardings\",\"alightings\",\"pct_college_degree\",\"pct_racial_minorities\",\"pct_property_owner\",\"pct_commuter_PuT\",\"DistRes\",\"DistOffice\",\"dist_to_cbd\"],\"title\":\"feature\",\"value\":\"total_pop\"},\"id\":\"1542\",\"type\":\"Select\"},{\"attributes\":{\"source\":{\"id\":\"1577\"}},\"id\":\"1584\",\"type\":\"CDSView\"},{\"attributes\":{\"end\":11185.9,\"reset_end\":11185.9,\"reset_start\":-1016.9000000000001,\"start\":-1016.9000000000001,\"tags\":[[[\"total_pop\",\"total_pop\",null]]]},\"id\":\"1544\",\"type\":\"Range1d\"},{\"attributes\":{\"callback\":null,\"renderers\":[{\"id\":\"1583\"}],\"tags\":[\"hv_created\"],\"tooltips\":[[\"total_pop\",\"@{total_pop}\"],[\"Count\",\"@{total_pop_count}\"]]},\"id\":\"1546\",\"type\":\"HoverTool\"},{\"attributes\":{},\"id\":\"1578\",\"type\":\"Selection\"},{\"attributes\":{},\"id\":\"1591\",\"type\":\"BasicTickFormatter\"},{\"attributes\":{},\"id\":\"1561\",\"type\":\"BasicTicker\"},{\"attributes\":{},\"id\":\"1566\",\"type\":\"WheelZoomTool\"},{\"attributes\":{\"active_multi\":null,\"tools\":[{\"id\":\"1546\"},{\"id\":\"1564\"},{\"id\":\"1565\"},{\"id\":\"1566\"},{\"id\":\"1567\"},{\"id\":\"1568\"}]},\"id\":\"1570\",\"type\":\"Toolbar\"},{\"attributes\":{\"axis_label\":\"\",\"formatter\":{\"id\":\"1591\"},\"major_label_policy\":{\"id\":\"1590\"},\"ticker\":{\"id\":\"1561\"}},\"id\":\"1560\",\"type\":\"LinearAxis\"},{\"attributes\":{\"axis_label\":\"total_pop\",\"formatter\":{\"id\":\"1588\"},\"major_label_policy\":{\"id\":\"1587\"},\"ticker\":{\"id\":\"1557\"}},\"id\":\"1556\",\"type\":\"LinearAxis\"},{\"attributes\":{\"axis\":{\"id\":\"1560\"},\"dimension\":1,\"grid_line_color\":null,\"ticker\":null},\"id\":\"1563\",\"type\":\"Grid\"},{\"attributes\":{\"css_classes\":[\"markdown\"],\"margin\":[5,5,5,5],\"name\":\"Markdown02332\",\"text\":\"&lt;h1&gt;Socioeconomic Features Explorer&lt;/h1&gt;\",\"width\":1000},\"id\":\"1540\",\"type\":\"panel.models.markup.HTML\"},{\"attributes\":{},\"id\":\"1568\",\"type\":\"ResetTool\"},{\"attributes\":{},\"id\":\"1588\",\"type\":\"BasicTickFormatter\"},{\"attributes\":{\"overlay\":{\"id\":\"1569\"}},\"id\":\"1567\",\"type\":\"BoxZoomTool\"}],\"root_ids\":[\"1539\",\"1642\"]},\"title\":\"Bokeh Application\",\"version\":\"2.3.3\"}};\n",
       "    var render_items = [{\"docid\":\"b0767492-3ccc-4e41-9463-5f49d4b6ac3c\",\"root_ids\":[\"1539\"],\"roots\":{\"1539\":\"91676f08-3a6d-4dd4-9865-cbc8eeb4f20b\"}}];\n",
       "    root.Bokeh.embed.embed_items_notebook(docs_json, render_items);\n",
       "  }\n",
       "  if (root.Bokeh !== undefined && root.Bokeh.Panel !== undefined) {\n",
       "    embed_document(root);\n",
       "  } else {\n",
       "    var attempts = 0;\n",
       "    var timer = setInterval(function(root) {\n",
       "      if (root.Bokeh !== undefined && root.Bokeh.Panel !== undefined) {\n",
       "        clearInterval(timer);\n",
       "        embed_document(root);\n",
       "      } else if (document.readyState == \"complete\") {\n",
       "        attempts++;\n",
       "        if (attempts > 200) {\n",
       "          clearInterval(timer);\n",
       "          console.log(\"Bokeh: ERROR: Unable to run BokehJS code because BokehJS library is missing\");\n",
       "        }\n",
       "      }\n",
       "    }, 25, root)\n",
       "  }\n",
       "})(window);</script>"
      ],
      "text/plain": [
       "Column(width_policy='max')\n",
       "    [0] Markdown(str, width=1000)\n",
       "    [1] Row\n",
       "        [0] Select(name='feature', options=['total_pop', ...], value='total_pop')\n",
       "        [1] ParamFunction(function)"
      ]
     },
     "execution_count": 5,
     "metadata": {
      "application/vnd.holoviews_exec.v0+json": {
       "id": "1539"
      }
     },
     "output_type": "execute_result"
    }
   ],
   "source": [
    "chicago_data_filter = pd.read_csv(\"data/chicago_data_filter.csv\")\n",
    "columns = list(chicago_data_filter.columns[:])\n",
    "\n",
    "# Load panel and enable interactive features\n",
    "pn.extension()\n",
    "\n",
    "feature = pn.widgets.Select(name='feature', options=columns)\n",
    "title = pn.Pane(\"<h1>Socioeconomic Features Explorer</h1>\", width=1000)\n",
    "\n",
    "@pn.depends(feature)\n",
    "def plot(feature):\n",
    "    return chicago_data_filter.hvplot.hist(\n",
    "        feature,\n",
    "        subplots=True, padding=0.1,\n",
    "        responsive=True, min_height=500, size=100,\n",
    "        c=\"#9ecae1\"\n",
    "    )\n",
    "pn.Column(\n",
    "    title,\n",
    "    pn.Row(feature, plot),\n",
    "    width_policy='max'\n",
    ").servable()"
   ]
  }
 ],
 "metadata": {
  "kernelspec": {
   "display_name": "Python 3 (ipykernel)",
   "language": "python",
   "name": "python3"
  },
  "language_info": {
   "codemirror_mode": {
    "name": "ipython",
    "version": 3
   },
   "file_extension": ".py",
   "mimetype": "text/x-python",
   "name": "python",
   "nbconvert_exporter": "python",
   "pygments_lexer": "ipython3",
   "version": "3.8.12"
  }
 },
 "nbformat": 4,
 "nbformat_minor": 5
}
